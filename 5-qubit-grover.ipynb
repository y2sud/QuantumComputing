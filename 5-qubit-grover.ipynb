{
 "cells": [
  {
   "cell_type": "code",
   "execution_count": 164,
   "id": "ebc30afb-9d95-4fdf-80ff-3f9a938c2d3f",
   "metadata": {},
   "outputs": [],
   "source": [
    "from qiskit import QuantumRegister, ClassicalRegister, QuantumCircuit\n",
    "from numpy import pi\n",
    "from qiskit import IBMQ, Aer, assemble, transpile\n",
    "from qiskit.visualization import plot_histogram\n",
    "from qiskit.providers.ibmq import least_busy\n",
    "from qiskit.circuit.library import ZGate"
   ]
  },
  {
   "cell_type": "code",
   "execution_count": 165,
   "id": "1e87b42a-54a4-4b45-aa52-706ec5df8a12",
   "metadata": {},
   "outputs": [],
   "source": [
    "def oracle(circuit, state):\n",
    "    circuit.ccx(qreg_q[0], qreg_q[1], qreg_q[5])\n",
    "    circuit.ccx(qreg_q[2], qreg_q[3], qreg_q[6])\n",
    "    circuit.ccx(qreg_q[5], qreg_q[6], qreg_q[7])\n",
    "    #circuit.cu(pi, 0, 0, 0, qreg_q[7], qreg_q[4])\n",
    "    #circuit.append(ZGate().control(4), [qreg_q[7]])\n",
    "    circuit.cz(qreg_q[7], qreg_q[4])\n",
    "    circuit.ccx(qreg_q[5], qreg_q[6], qreg_q[7])\n",
    "    circuit.ccx(qreg_q[2], qreg_q[3], qreg_q[6])\n",
    "    circuit.ccx(qreg_q[0], qreg_q[1], qreg_q[5])\n",
    "    \n",
    "    # Set the state here\n",
    "    for ii, qubit in enumerate(state):\n",
    "        #print('qubit ' , qubit)\n",
    "        if qubit == 0:\n",
    "            circuit.x(qreg_q[len(state) - 1 - ii])\n",
    "\n",
    "    return circuit"
   ]
  },
  {
   "cell_type": "code",
   "execution_count": 166,
   "id": "d30bbe89-902d-4ded-93cd-59dcdcae5824",
   "metadata": {},
   "outputs": [],
   "source": [
    "def diffusion(circuit, state):\n",
    "    circuit.barrier(qreg_q[0], qreg_q[1], qreg_q[2], qreg_q[3], qreg_q[4], qreg_q[5], qreg_q[6], qreg_q[7])\n",
    "    \n",
    "    circuit.h(qreg_q[0])\n",
    "    circuit.h(qreg_q[1])\n",
    "    circuit.h(qreg_q[2])\n",
    "    circuit.h(qreg_q[3])\n",
    "    circuit.h(qreg_q[4])\n",
    "    circuit.x(qreg_q[0])\n",
    "    circuit.x(qreg_q[1])\n",
    "    circuit.x(qreg_q[2])\n",
    "    circuit.x(qreg_q[3])\n",
    "    circuit.x(qreg_q[4])\n",
    "    \n",
    "    circuit = oracle(circuit, state)\n",
    "    circuit.barrier(qreg_q[0], qreg_q[1], qreg_q[2], qreg_q[3], qreg_q[4], qreg_q[5], qreg_q[6], qreg_q[7])\n",
    "        \n",
    "    circuit.x(qreg_q[0])\n",
    "    circuit.x(qreg_q[1])\n",
    "    circuit.x(qreg_q[2])\n",
    "    circuit.x(qreg_q[3])\n",
    "    circuit.x(qreg_q[4])\n",
    "    circuit.h(qreg_q[0])\n",
    "    circuit.h(qreg_q[1])\n",
    "    circuit.h(qreg_q[2])\n",
    "    circuit.h(qreg_q[3])\n",
    "    circuit.h(qreg_q[4])\n",
    "\n",
    "    circuit.barrier(qreg_q[0], qreg_q[1], qreg_q[2], qreg_q[3], qreg_q[4], qreg_q[5], qreg_q[6], qreg_q[7])\n",
    "    \n",
    "    return circuit"
   ]
  },
  {
   "cell_type": "code",
   "execution_count": 224,
   "id": "4e148b0a-ace8-4a50-9904-519106608646",
   "metadata": {},
   "outputs": [],
   "source": [
    "qreg_q = QuantumRegister(8, 'q')\n",
    "creg_c = ClassicalRegister(5, 'c')\n",
    "grover_circuit = QuantumCircuit(qreg_q, creg_c)"
   ]
  },
  {
   "cell_type": "code",
   "execution_count": 225,
   "id": "dd57ed79-efdb-4fa8-bd45-f375495433b4",
   "metadata": {},
   "outputs": [
    {
     "data": {
      "text/plain": [
       "<qiskit.circuit.instructionset.InstructionSet at 0x7fdda4916910>"
      ]
     },
     "execution_count": 225,
     "metadata": {},
     "output_type": "execute_result"
    }
   ],
   "source": [
    "# Superposition\n",
    "grover_circuit.h(qreg_q[0])\n",
    "grover_circuit.h(qreg_q[1])\n",
    "grover_circuit.h(qreg_q[2])\n",
    "grover_circuit.h(qreg_q[3])\n",
    "grover_circuit.h(qreg_q[4])\n",
    "\n",
    "grover_circuit.barrier(qreg_q[0], qreg_q[1], qreg_q[2], qreg_q[3], qreg_q[4], qreg_q[5], qreg_q[6], qreg_q[7])"
   ]
  },
  {
   "cell_type": "code",
   "execution_count": 226,
   "id": "3a3cbaef-21af-42d6-98c3-0422f5f8b086",
   "metadata": {},
   "outputs": [],
   "source": [
    "SEARCH_STATE = [1,0,1,1,0]\n",
    "ROTATIONS = 2\n",
    "default = [1,1,1,1,1]"
   ]
  },
  {
   "cell_type": "code",
   "execution_count": 227,
   "id": "ab5daf78-953d-4b13-9642-b11fbd4db39d",
   "metadata": {},
   "outputs": [
    {
     "data": {
      "text/plain": [
       "'\\ngrover_circuit = oracle(grover_circuit)\\ngrover_circuit.barrier(qreg_q[0], qreg_q[1], qreg_q[2], qreg_q[3], qreg_q[4], qreg_q[5], qreg_q[6], qreg_q[7])\\ngrover_circuit = diffusion(grover_circuit)\\n\\ngrover_circuit = oracle(grover_circuit)\\ngrover_circuit.barrier(qreg_q[0], qreg_q[1], qreg_q[2], qreg_q[3], qreg_q[4], qreg_q[5], qreg_q[6], qreg_q[7])\\ngrover_circuit = diffusion(grover_circuit)\\n\\ngrover_circuit = oracle(grover_circuit)\\ngrover_circuit.barrier(qreg_q[0], qreg_q[1], qreg_q[2], qreg_q[3], qreg_q[4], qreg_q[5], qreg_q[6], qreg_q[7])\\ngrover_circuit = diffusion(grover_circuit)\\n\\ngrover_circuit = oracle(grover_circuit)\\ngrover_circuit.barrier(qreg_q[0], qreg_q[1], qreg_q[2], qreg_q[3], qreg_q[4], qreg_q[5], qreg_q[6], qreg_q[7])\\ngrover_circuit = diffusion(grover_circuit)\\n'"
      ]
     },
     "execution_count": 227,
     "metadata": {},
     "output_type": "execute_result"
    }
   ],
   "source": [
    "#grover_circuit.x(qreg_q[2])\n",
    "\n",
    "for ii in range(ROTATIONS):\n",
    "    grover_circuit = oracle(grover_circuit, SEARCH_STATE)\n",
    "    #grover_circuit.x(qreg_q[3])\n",
    "    grover_circuit.barrier(qreg_q[0], qreg_q[1], qreg_q[2], qreg_q[3], qreg_q[4], qreg_q[5], qreg_q[6], qreg_q[7])\n",
    "    grover_circuit = diffusion(grover_circuit, default)\n",
    "\n",
    "'''\n",
    "grover_circuit = oracle(grover_circuit)\n",
    "grover_circuit.barrier(qreg_q[0], qreg_q[1], qreg_q[2], qreg_q[3], qreg_q[4], qreg_q[5], qreg_q[6], qreg_q[7])\n",
    "grover_circuit = diffusion(grover_circuit)\n",
    "\n",
    "grover_circuit = oracle(grover_circuit)\n",
    "grover_circuit.barrier(qreg_q[0], qreg_q[1], qreg_q[2], qreg_q[3], qreg_q[4], qreg_q[5], qreg_q[6], qreg_q[7])\n",
    "grover_circuit = diffusion(grover_circuit)\n",
    "\n",
    "grover_circuit = oracle(grover_circuit)\n",
    "grover_circuit.barrier(qreg_q[0], qreg_q[1], qreg_q[2], qreg_q[3], qreg_q[4], qreg_q[5], qreg_q[6], qreg_q[7])\n",
    "grover_circuit = diffusion(grover_circuit)\n",
    "\n",
    "grover_circuit = oracle(grover_circuit)\n",
    "grover_circuit.barrier(qreg_q[0], qreg_q[1], qreg_q[2], qreg_q[3], qreg_q[4], qreg_q[5], qreg_q[6], qreg_q[7])\n",
    "grover_circuit = diffusion(grover_circuit)\n",
    "'''"
   ]
  },
  {
   "cell_type": "code",
   "execution_count": 228,
   "id": "1bb319f2-7b06-4c03-9a6e-3a696ee69bb7",
   "metadata": {},
   "outputs": [],
   "source": [
    "#grover_circuit.draw()"
   ]
  },
  {
   "cell_type": "code",
   "execution_count": 229,
   "id": "29bf95f3-469b-4acd-b3db-4539cfcafc42",
   "metadata": {},
   "outputs": [],
   "source": [
    "sim = Aer.get_backend('aer_simulator')\n",
    "# we need to make a copy of the circuit with the 'save_statevector'\n",
    "# instruction to run on the Aer simulator\n",
    "grover_circuit_sim = grover_circuit.copy()\n",
    "grover_circuit_sim.save_statevector()\n",
    "qobj = assemble(grover_circuit_sim)"
   ]
  },
  {
   "cell_type": "code",
   "execution_count": 230,
   "id": "c4c01a45-c7f6-4a43-8df4-9f99358fdffd",
   "metadata": {},
   "outputs": [],
   "source": [
    "#result = sim.run(qobj).result()\n",
    "#statevec = result.get_statevector()\n",
    "#from qiskit_textbook.tools import vector2latex\n",
    "#vector2latex(statevec, pretext=\"|\\\\psi\\\\rangle =\")"
   ]
  },
  {
   "cell_type": "code",
   "execution_count": 231,
   "id": "dd59a90b-aedb-4078-980a-67c9d3652cdc",
   "metadata": {},
   "outputs": [],
   "source": [
    "#grover_circuit.x(qreg_q[2])"
   ]
  },
  {
   "cell_type": "code",
   "execution_count": 232,
   "id": "19f0e642-aea7-4540-be46-be69108e47e0",
   "metadata": {},
   "outputs": [],
   "source": [
    "grover_circuit.measure([0,1,2,3,4],[0,1,2,3,4])\n",
    "aer_sim = Aer.get_backend('aer_simulator')\n",
    "qobj = assemble(grover_circuit)\n",
    "result = aer_sim.run(qobj).result()\n",
    "#grover_circuit.draw()"
   ]
  },
  {
   "cell_type": "code",
   "execution_count": 233,
   "id": "61e9bc51-efae-4419-b254-c94a8c30885b",
   "metadata": {},
   "outputs": [
    {
     "data": {
      "image/png": "[encoded data removed]",
      "text/plain": [
       "<Figure size 504x360 with 1 Axes>"
      ]
     },
     "execution_count": 233,
     "metadata": {},
     "output_type": "execute_result"
    }
   ],
   "source": [
    "counts = result.get_counts()\n",
    "plot_histogram(counts)"
   ]
  },
  {
   "cell_type": "code",
   "execution_count": 234,
   "id": "ee927b43-e641-454c-90b6-6b46b0d774ca",
   "metadata": {},
   "outputs": [
    {
     "name": "stdout",
     "output_type": "stream",
     "text": [
      "10110 231\n",
      "11111 46\n",
      "01001 36\n",
      "01111 34\n",
      "01011 32\n",
      "00010 29\n",
      "11010 28\n",
      "10100 28\n",
      "10010 28\n",
      "00011 28\n",
      "00100 28\n",
      "11000 27\n",
      "01101 27\n",
      "01000 26\n",
      "00001 26\n",
      "10011 25\n",
      "01100 24\n",
      "11001 24\n",
      "00101 24\n",
      "10001 24\n",
      "01010 24\n",
      "11011 23\n",
      "11110 22\n",
      "11101 22\n",
      "11100 21\n",
      "10000 21\n",
      "00111 21\n",
      "00000 21\n",
      "10111 20\n",
      "10101 19\n",
      "00110 18\n",
      "01110 17\n"
     ]
    }
   ],
   "source": [
    "counts_d = dict(counts)\n",
    "for w in sorted(counts_d, key=counts_d.get, reverse=True):\n",
    "    print(w, counts_d[w])\n"
   ]
  },
  {
   "cell_type": "markdown",
   "id": "7f1789eb-a8ab-4c7d-80a0-280ac4bdf771",
   "metadata": {},
   "source": [
    "# Real devices"
   ]
  },
  {
   "cell_type": "code",
   "execution_count": 86,
   "id": "ec5b8620-753e-45ff-9f61-b7c394b5eb68",
   "metadata": {},
   "outputs": [
    {
     "name": "stderr",
     "output_type": "stream",
     "text": [
      "ibmqfactory.load_account:WARNING:2022-08-15 10:36:28,126: Credentials are already in use. The existing account in the session will be replaced.\n"
     ]
    },
    {
     "name": "stdout",
     "output_type": "stream",
     "text": [
      "Running on current least busy device:  ibm_oslo\n"
     ]
    }
   ],
   "source": [
    "# Load IBM Q account and get the least busy backend device\n",
    "provider = IBMQ.load_account()\n",
    "provider = IBMQ.get_provider(\"ibm-q\")\n",
    "device = least_busy(provider.backends(filters=lambda x: x.configuration().n_qubits >= 6 and \n",
    "                                   not x.configuration().simulator and x.status().operational==True))\n",
    "print(\"Running on current least busy device: \", device)"
   ]
  },
  {
   "cell_type": "code",
   "execution_count": 87,
   "id": "87f46722-1b09-46be-9126-4dd3214886df",
   "metadata": {},
   "outputs": [
    {
     "name": "stdout",
     "output_type": "stream",
     "text": [
      "Traceback \u001b[1;36m(most recent call last)\u001b[0m:\n",
      "  Input \u001b[0;32mIn [87]\u001b[0m in \u001b[0;35m<cell line: 3>\u001b[0m\n",
      "    transpiled_grover_circuit = transpile(grover_circuit, device, optimization_level=3)\n",
      "  File \u001b[0;32m/opt/conda/lib/python3.8/site-packages/qiskit/compiler/transpiler.py:319\u001b[0m in \u001b[0;35mtranspile\u001b[0m\n",
      "    _check_circuits_coupling_map(circuits, cmap_conf, backend)\n",
      "\u001b[1;36m  File \u001b[1;32m/opt/conda/lib/python3.8/site-packages/qiskit/compiler/transpiler.py:381\u001b[1;36m in \u001b[1;35m_check_circuits_coupling_map\u001b[1;36m\u001b[0m\n",
      "\u001b[1;33m    raise TranspilerError(\u001b[0m\n",
      "\u001b[1;31mTranspilerError\u001b[0m\u001b[1;31m:\u001b[0m 'Number of qubits (10) in circuit-95 is greater than maximum (7) in the coupling_map'\n",
      "\n",
      "Use %tb to get the full traceback.\n"
     ]
    },
    {
     "data": {
      "text/html": [
       "\n",
       "<style>\n",
       ".button {\n",
       "  border: none;\n",
       "  color: white;\n",
       "  padding: 4px 8px;\n",
       "  text-align: center;\n",
       "  text-decoration: none;\n",
       "  display: inline-block;\n",
       "  font-size: 12px;\n",
       "  margin: 4px 2px;\n",
       "  transition-duration: 0.2s;\n",
       "  cursor: pointer;\n",
       "}\n",
       ".iqx-button {\n",
       "  background-color: #0f62fe; \n",
       "  color: white; \n",
       "}\n",
       ".iqx-button:hover {\n",
       "  background-color: #0043ce;\n",
       "  color: white;\n",
       "}\n",
       "</style>\n",
       "<a href=\"https://stackoverflow.com/search?q=TranspilerError: Number of qubits (10) in circuit-95 is greater than maximum (7) in the coupling_map\" target='_blank'><button class='button iqx-button'>Search for solution online</button></a>\n"
      ],
      "text/plain": [
       "<IPython.core.display.HTML object>"
      ]
     },
     "metadata": {},
     "output_type": "display_data"
    }
   ],
   "source": [
    "# Run our circuit on the least busy backend. Monitor the execution of the job in the queue\n",
    "from qiskit.tools.monitor import job_monitor\n",
    "transpiled_grover_circuit = transpile(grover_circuit, device, optimization_level=3)\n",
    "job = device.run(transpiled_grover_circuit)\n",
    "job_monitor(job, interval=2)"
   ]
  },
  {
   "cell_type": "code",
   "execution_count": null,
   "id": "a8639056-abb2-4164-a5f5-82cdc807f4a5",
   "metadata": {},
   "outputs": [],
   "source": [
    "# Get the results from the computation\n",
    "results = job.result()\n",
    "answer = results.get_counts(grover_circuit)\n",
    "plot_histogram(answer)"
   ]
  }
 ],
 "metadata": {
  "kernelspec": {
   "display_name": "Python 3 (ipykernel)",
   "language": "python",
   "name": "python3"
  },
  "language_info": {
   "codemirror_mode": {
    "name": "ipython",
    "version": 3
   },
   "file_extension": ".py",
   "mimetype": "text/x-python",
   "name": "python",
   "nbconvert_exporter": "python",
   "pygments_lexer": "ipython3",
   "version": "3.8.13"
  },
  "widgets": {
   "application/vnd.jupyter.widget-state+json": {
    "state": {},
    "version_major": 2,
    "version_minor": 0
   }
  }
 },
 "nbformat": 4,
 "nbformat_minor": 5
}
